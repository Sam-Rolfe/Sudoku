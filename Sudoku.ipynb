{
 "cells": [
  {
   "cell_type": "markdown",
   "metadata": {},
   "source": [
    "# Sudoku \n",
    "Sudoku generators and solvers present a fun opportunity to practice a number of popular and widely applicable algorithms. While creating my own Sudoku solver, it occurred to me that the number-based game is also well suited for statistical analysis. As a result, I’ve split this notebook in to two sections.\n",
    "\n",
    "The first section is an overview of creating a program to solve Sudoku puzzles. The concepts underlying the program, including backtracking search, generative recursion, and tree data structures are briefly reviewed. The contribution of each concept to the solver algorithm is explored in the code.\n",
    "\n",
    "The second section is an analysis of Sudoku with a focus on the starting clue positions. It explores the questions:\n",
    "* __How do Sudoku puzzles vary by difficulty level?__\n",
    "* __Are certain clue locations more useful than others?__\n",
    "\n",
    "This project isn’t meant to be a comprehensive walk-through of how to create a Sudoku solver, nor does it claim to explore all the interesting analysis that can be done on Sudoku boards. Rather, this project serves as a fun way for me to document my program and cement some of the ideas with the hope that any wayward internet travelers or Sudoku enthusiasts find the project interesting. Thanks for reading!"
   ]
  },
  {
   "cell_type": "markdown",
   "metadata": {},
   "source": [
    "1. [__Sudoku Solver__](http://localhost:8888/notebooks/AnacondaProjects/Sudoku%20Folder/Notebooks/Sudoku%20Solver%20Walk-through.ipynb): an overview of a Sudoku solver which relies on backtracking search\n",
    "2. [__Sudoku Analysis__](http://localhost:8888/notebooks/AnacondaProjects/Sudoku%20Folder/Notebooks/Sudoku%20Analysis.ipynb): some fun, exploratory analysis of Sudoku with a focus on starting clue positions. \n",
    "3. [__Github Repository__](https://github.com/Sam-Rolfe/Sudoku): all the code used in my exploration of Sudoku as well as the related datasets.\n",
    "\n",
    "## References\n",
    "The code is written in Python using the _Numpy_, _Matplotlib_, and _Time_ packages. The regression analysis was done using the statistical software package _Gretl_.\n",
    "\n",
    "My curiosity in Sudoku was piqued by Professor Gregor Kiczales in his course “How to Code: Complex Data”, which included an assignment to create a Sudoku solver in the programming language Racket. My solver, written in Python, is adapted from that assignment."
   ]
  }
 ],
 "metadata": {
  "kernelspec": {
   "display_name": "Python 3",
   "language": "python",
   "name": "python3"
  },
  "language_info": {
   "codemirror_mode": {
    "name": "ipython",
    "version": 3
   },
   "file_extension": ".py",
   "mimetype": "text/x-python",
   "name": "python",
   "nbconvert_exporter": "python",
   "pygments_lexer": "ipython3",
   "version": "3.6.6"
  }
 },
 "nbformat": 4,
 "nbformat_minor": 2
}
