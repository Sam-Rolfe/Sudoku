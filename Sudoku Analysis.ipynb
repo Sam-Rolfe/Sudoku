{
 "cells": [
  {
   "cell_type": "markdown",
   "metadata": {},
   "source": [
    "# <center>Sudoku Analysis</center> \n",
    "## <center>UNDER CONSTRUCTION</center> \n",
    "<table class=\"image\">\n",
    "<tr>\n",
    "    <td> <img src=\"http://drive.google.com/uc?export=view&id=1bG1ynVpg85CIV1_LwFwLdVXNvjYEvN7b\" style=\"width: 500px;\"/>  </td>\n",
    "    </tr>\n",
    "</table>\n",
    "\n"
   ]
  },
  {
   "cell_type": "code",
   "execution_count": null,
   "metadata": {},
   "outputs": [],
   "source": []
  }
 ],
 "metadata": {
  "kernelspec": {
   "display_name": "Python 3",
   "language": "python",
   "name": "python3"
  },
  "language_info": {
   "codemirror_mode": {
    "name": "ipython",
    "version": 3
   },
   "file_extension": ".py",
   "mimetype": "text/x-python",
   "name": "python",
   "nbconvert_exporter": "python",
   "pygments_lexer": "ipython3",
   "version": "3.6.6"
  }
 },
 "nbformat": 4,
 "nbformat_minor": 2
}
