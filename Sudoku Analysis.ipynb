{
 "cells": [
  {
   "cell_type": "markdown",
   "metadata": {},
   "source": [
    "# Sudoku Analysis\n",
    "This analysis focuses on starting clue positions. The first part explores the frequency and distribution of clues for Sudoku boards of varying difficulty levels. The second part examines the relationship between clues and the minimum requirements for board validity."
   ]
  },
  {
   "cell_type": "markdown",
   "metadata": {},
   "source": [
    "## Clue Distribution by Difficulty\n",
    "1. What are the criteria for difficulty? \n",
    "2. How are sudoku boards made?\n",
    "3. Where did this data come from?\n",
    "4. Heat Maps\n",
    "5. What do the heat maps tell us?"
   ]
  },
  {
   "cell_type": "markdown",
   "metadata": {},
   "source": [
    "## Clue Distribution and Minimum Validity Requirements\n",
    "1. What is a valid board?\n",
    "2. What are the minimum possible number of clues for a valid board?\n",
    "3. \"This section seeks to answer the somewhat tangential question: 'If clues were to be randomly provided, on average, how many clues are needed for the board to be valid? Are some clue positions more valuable than others? IE, do any clue positions correlate with lower average minimum required clue count?\n",
    "4. Why is this question interesting? \n",
    "    -Presents a challenge and represents a variation of the backtracking search\n",
    "    -Is more computationally difficult\n",
    "5. Findings\n",
    "6. Compare efficiency with regular solving algorithm\n",
    "7. "
   ]
  }
 ],
 "metadata": {
  "kernelspec": {
   "display_name": "Python 3",
   "language": "python",
   "name": "python3"
  },
  "language_info": {
   "codemirror_mode": {
    "name": "ipython",
    "version": 3
   },
   "file_extension": ".py",
   "mimetype": "text/x-python",
   "name": "python",
   "nbconvert_exporter": "python",
   "pygments_lexer": "ipython3",
   "version": "3.6.4"
  }
 },
 "nbformat": 4,
 "nbformat_minor": 2
}
